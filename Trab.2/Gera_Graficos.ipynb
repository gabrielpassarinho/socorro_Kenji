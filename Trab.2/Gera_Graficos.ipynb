{
 "cells": [
  {
   "cell_type": "code",
   "execution_count": 1,
   "id": "d6be810c",
   "metadata": {},
   "outputs": [],
   "source": [
    "import numpy as np\n",
    "import matplotlib.pyplot as plt"
   ]
  },
  {
   "cell_type": "code",
   "execution_count": 6,
   "id": "730bfcfd",
   "metadata": {},
   "outputs": [],
   "source": [
    "def plota(r1a, r1b, r1c, r1d, r2ad, r2am, r2b, r2cd, r2cm):\n",
    "    fig = plt.figure(figsize=(10,5))\n",
    "    gs = fig.add_gridspec(1, 2)\n",
    "    axs = [fig.add_subplot(gs[0, 0]), fig.add_subplot(gs[0, 1])]\n",
    "    label_bs = ['1.a', '1.b', '1.c', '1.d']\n",
    "    label_besp = ['2.a', '2.b', '2.c']\n",
    "    x = np.arange(len(label_besp)) # o grafico das pt.2 é feito de um jeito um pouquinho diferente do da pt.1\n",
    "    \n",
    "    r1_means = [np.average(r1a), np.average(r1b), np.average(r1c), np.average(r1d)]\n",
    "    r2_means = [np.average(r2ad), np.average(r2am), np.average(r2b), np.average(r2cd), np.average(r2cm)]\n",
    "    r1_stds = [np.std(r1a), np.std(r1b), np.std(r1c), np.std(r1d)]\n",
    "    r2_stds = [np.std(r2ad), np.std(r2am), np.std(r2b), np.std(r2cd), np.std(r2cm)]\n",
    "    print(\"Medias de tempo:\")\n",
    "    print(\"Busca Sequencial: \", np.round(r1_means, 5))\n",
    "    print(\"Busca por espalhamento: \", np.round(r2_means, 5))\n",
    "    print(\"Desvio padrão:\")\n",
    "    print(\"Busca Sequencial: \", np.round(r1_stds, 5))\n",
    "    print(\"Busca por espalhamento: \", np.round(r2_stds, 5))\n",
    "    width = 0.35 # tamanho da barra\n",
    "\n",
    "    axs[0].bar(label_bs, r1_means, width, yerr=r1_stds, color=\"orange\")\n",
    "    axs[1].bar(x[0] - width/2, r2_means[0], width, yerr=r2_stds[0], label='hash por divisao', color=\"purple\")\n",
    "    axs[1].bar(x[0] + width/2, r2_means[1], width, yerr=r2_stds[1], label='hash por multiplicacao', color='blue')\n",
    "    axs[1].bar(x[1], r2_means[2], width, yerr=r2_stds[2],color='green', label='hash duplo')\n",
    "    axs[1].bar(x[2] - width/2, r2_means[3], width, yerr=r2_stds[3], color=\"purple\")\n",
    "    axs[1].bar(x[2] + width/2, r2_means[4], width, yerr=r2_stds[4], color='blue' )\n",
    "    \n",
    "    axs[0].set_ylabel('Média de tempo')\n",
    "    axs[0].set_ylim(0, np.max([np.max(r1_means), np.max(r2_means)])+1)\n",
    "    axs[1].set_ylim(0, np.max([np.max(r1_means), np.max(r2_means)])+1)\n",
    "    axs[0].set_title('Busca Sequencial')\n",
    "    axs[1].set_title('Busca por espalhamento')\n",
    "    axs[1].set_xticks(x)\n",
    "    axs[1].set_xticklabels(label_besp)\n",
    "    axs[1].legend()\n",
    "    plt.savefig(\"grafico.png\")\n",
    "\n",
    "    return"
   ]
  },
  {
   "cell_type": "code",
   "execution_count": 9,
   "id": "2d30f3d6",
   "metadata": {},
   "outputs": [],
   "source": [
    "#inserir aqui as tres medidas de tempo realizadas\n",
    "# insercao\n",
    "in1a = [1,1,2]\n",
    "in1b = [1,2,3]\n",
    "in1c = [0,1,1] \n",
    "in1d = [2,1,1] \n",
    "\n",
    "in2ad = [0.132175, 0.131650, 0.132841]\n",
    "in2am = [0.414050, 0.405956, 0.404318]\n",
    "in2b = [0.185757, 0.183458, 0.202101]\n",
    "in2cd = [0.037818, 0.039044, 0.039467]\n",
    "in2cm = [0.128661, 0.124416, 0.124253]\n",
    "\n",
    "# busca\n",
    "b1a = [1,2,2]\n",
    "b1b = [1,2,2]\n",
    "b1c = [1,2,2]\n",
    "b1d = [1,2,2]\n",
    "\n",
    "b2ad = [0.333032, 0.328718, 0.324183]\n",
    "b2am = [0.944533, 0.938876, 0.936622]\n",
    "b2b = [0.386477, 0.386634, 0.393851]\n",
    "b2cd = [0.059440, 0.060525, 0.060921]\n",
    "b2cm = [0.242463, 0.238078, 0.248629]"
   ]
  },
  {
   "cell_type": "code",
   "execution_count": 10,
   "id": "69eaeb38",
   "metadata": {},
   "outputs": [
    {
     "name": "stdout",
     "output_type": "stream",
     "text": [
      "Tempo de insercao\n",
      "Medias de tempo:\n",
      "Busca Sequencial:  [1.33333 2.      0.66667 1.33333]\n",
      "Busca por espalhamento:  [0.13222 0.40811 0.19044 0.03878 0.12578]\n",
      "Desvio padrão:\n",
      "Busca Sequencial:  [0.4714 0.8165 0.4714 0.4714]\n",
      "Busca por espalhamento:  [0.00049 0.00425 0.0083  0.0007  0.00204]\n"
     ]
    },
    {
     "data": {
      "image/png": "[encoded data removed]",
      "text/plain": [
       "<Figure size 720x360 with 2 Axes>"
      ]
     },
     "metadata": {
      "needs_background": "light"
     },
     "output_type": "display_data"
    }
   ],
   "source": [
    "print(\"Tempo de insercao\")\n",
    "plota(in1a, in1b, in1c, in1d, in2ad, in2am, in2b, in2cd, in2cm)"
   ]
  },
  {
   "cell_type": "code",
   "execution_count": 7,
   "id": "ff1e36a2",
   "metadata": {},
   "outputs": [
    {
     "name": "stdout",
     "output_type": "stream",
     "text": [
      "Tempo de busca\n",
      "Medias de tempo:\n",
      "Busca Sequencial:  [1.66667 1.66667 1.66667 1.66667]\n",
      "Busca por espalhamento:  [0.32864 0.94001 0.38899 0.0603  0.24306]\n",
      "Desvio padrão:\n",
      "Busca Sequencial:  [0.4714 0.4714 0.4714 0.4714]\n",
      "Busca por espalhamento:  [0.00361 0.00333 0.00344 0.00063 0.00433]\n"
     ]
    },
    {
     "data": {
      "image/png": "[encoded data removed]",
      "text/plain": [
       "<Figure size 720x360 with 2 Axes>"
      ]
     },
     "metadata": {
      "needs_background": "light"
     },
     "output_type": "display_data"
    }
   ],
   "source": [
    "print(\"Tempo de busca\")\n",
    "plota(b1a, b1b, b1c, b1d, b2ad, b2am, b2b, b2cd, b2cm)"
   ]
  },
  {
   "cell_type": "code",
   "execution_count": null,
   "id": "a87f1181",
   "metadata": {},
   "outputs": [],
   "source": []
  }
 ],
 "metadata": {
  "kernelspec": {
   "display_name": "Python 3",
   "language": "python",
   "name": "python3"
  },
  "language_info": {
   "codemirror_mode": {
    "name": "ipython",
    "version": 3
   },
   "file_extension": ".py",
   "mimetype": "text/x-python",
   "name": "python",
   "nbconvert_exporter": "python",
   "pygments_lexer": "ipython3",
   "version": "3.8.10"
  }
 },
 "nbformat": 4,
 "nbformat_minor": 5
}
